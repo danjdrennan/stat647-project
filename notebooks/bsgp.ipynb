{
 "cells": [
  {
   "cell_type": "code",
   "execution_count": null,
   "metadata": {},
   "outputs": [],
   "source": [
    "import sys\n",
    "sys.path.append('../')\n",
    "\n",
    "import numpy as np\n",
    "import matplotlib.pyplot as plt\n",
    "import torch\n",
    "from torch.optim import Adam\n",
    "\n",
    "from bsgp.model import GraphicalNostationaryGP\n",
    "from bsgp.utils import DataProcessor, reverse_order\n",
    "from bsgp.utils import make_uniform_grid, sample_gp\n",
    "from bsgp.neighbors import find_neighbors\n",
    "from bsgp.orderings import maxmin_sort"
   ]
  },
  {
   "cell_type": "code",
   "execution_count": null,
   "metadata": {},
   "outputs": [],
   "source": [
    "locs = make_uniform_grid(n = 30, d = 2)\n",
    "data = sample_gp(samples = 50, length_scale = 0.4, n = 30)"
   ]
  },
  {
   "cell_type": "code",
   "execution_count": null,
   "metadata": {},
   "outputs": [],
   "source": [
    "model = GraphicalNostationaryGP(locs, data, maxmin_sort, find_neighbors)\n",
    "adam = Adam(model.parameters(), lr = 0.1)"
   ]
  },
  {
   "cell_type": "code",
   "execution_count": null,
   "metadata": {},
   "outputs": [],
   "source": [
    "# torch.autograd.set_detect_anomaly(True)\n",
    "losses = model.fit(adam, num_epochs = 100, track_loss = True)"
   ]
  }
 ],
 "metadata": {
  "kernelspec": {
   "display_name": "spatial",
   "language": "python",
   "name": "python3"
  },
  "language_info": {
   "codemirror_mode": {
    "name": "ipython",
    "version": 3
   },
   "file_extension": ".py",
   "mimetype": "text/x-python",
   "name": "python",
   "nbconvert_exporter": "python",
   "pygments_lexer": "ipython3",
   "version": "3.7.12"
  },
  "orig_nbformat": 4,
  "vscode": {
   "interpreter": {
    "hash": "266e53ca49db8e399782c8b046666bed2595f2b2c1372c5b4dad4d7f726a44a2"
   }
  }
 },
 "nbformat": 4,
 "nbformat_minor": 2
}
